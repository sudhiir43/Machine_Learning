{
 "cells": [
  {
   "cell_type": "code",
   "execution_count": 47,
   "metadata": {
    "collapsed": true
   },
   "outputs": [],
   "source": [
    "import pandas as pd\n",
    "import numpy as np\n",
    "from sklearn.feature_extraction.text import CountVectorizer, TfidfVectorizer\n",
    "\n",
    "from sklearn.linear_model import LinearRegression\n",
    "# from sklearn.svm import SVR\n",
    "\n",
    "# from sklearn.model_selection import GridSearchCV\n",
    "from sklearn.preprocessing import StandardScaler\n",
    "\n",
    "from sklearn.metrics import mean_squared_error\n",
    "import random\n",
    "random.seed( 10 )"
   ]
  },
  {
   "cell_type": "code",
   "execution_count": 48,
   "metadata": {
    "collapsed": false
   },
   "outputs": [],
   "source": [
    "path = \"D:\\\\Web\\\\game\\\\\"      # set path\n",
    "\n",
    "train9 = pd.read_csv(path + 'train9.csv')\n",
    "train1 = pd.read_csv(path + 'train1.csv')\n",
    "\n",
    "test9 = pd.read_csv(path + 'test9.csv')\n",
    "test1 = pd.read_csv(path + 'test1.csv')\n",
    "\n",
    "hero = pd.read_csv(path + 'hero_data.csv')"
   ]
  },
  {
   "cell_type": "code",
   "execution_count": 49,
   "metadata": {
    "collapsed": true
   },
   "outputs": [],
   "source": [
    "train9['win_ratio'] = train9.num_wins/train9.num_games\n",
    "#train1['win_ratio'] = train1.num_wins/train1.num_games\n",
    "test9['win_ratio'] = test9.num_wins/test9.num_games\n",
    "#test1['win_ratio'] = test1.num_wins/test1.num_games"
   ]
  },
  {
   "cell_type": "code",
   "execution_count": 50,
   "metadata": {
    "collapsed": true
   },
   "outputs": [],
   "source": [
    "tf = CountVectorizer()\n",
    "y = tf.fit_transform(hero.roles.str.replace(':', ','))\n",
    "\n",
    "roles = pd.DataFrame(y.toarray(),columns=tf.vocabulary_)\n",
    "\n",
    "hero_1=pd.concat([hero, roles], axis =1)"
   ]
  },
  {
   "cell_type": "code",
   "execution_count": 51,
   "metadata": {
    "collapsed": true
   },
   "outputs": [],
   "source": [
    "hero_1.drop(['roles','base_health','base_mana'],axis=1 , inplace=True)\n",
    "hero_1 = pd.get_dummies(hero_1)"
   ]
  },
  {
   "cell_type": "code",
   "execution_count": 52,
   "metadata": {
    "collapsed": true
   },
   "outputs": [],
   "source": [
    "train_9 = train9.merge(hero_1)\n",
    "train_1 = train1.merge(hero_1)\n",
    "test_9 = test9.merge(hero_1)\n",
    "test_1 = test1.merge(hero_1)"
   ]
  },
  {
   "cell_type": "code",
   "execution_count": 53,
   "metadata": {
    "collapsed": true
   },
   "outputs": [],
   "source": [
    "# train kda mean and variance\n",
    "\n",
    "user_kda = {}\n",
    "user_var = {}\n",
    "user_min = {}\n",
    "user_max = {}\n",
    "\n",
    "hero_kda = {}\n",
    "hero_var = {}\n",
    "\n",
    "a = train_9.user_id.unique()\n",
    "for i in a:\n",
    "    user_kda[i] = train_9[train_9.user_id==i].kda_ratio.mean()\n",
    "for i in a:\n",
    "    user_var[i] = train_9[train_9.user_id==i].kda_ratio.var()\n",
    "for i  in a:\n",
    "    user_min[i] = train_9[train_9.user_id ==i ].kda_ratio.min()\n",
    "for i in a:\n",
    "    user_max[i] = train_9[train_9.user_id == i].kda_ratio.max()\n",
    "    \n",
    "b = train_9.hero_id.unique()\n",
    "for i in b:\n",
    "    hero_kda[i] = train_9[train_9.hero_id==i].kda_ratio.mean()\n",
    "for i in b:\n",
    "    hero_var[i] = train_9[train_9.hero_id==i].kda_ratio.var()\n",
    "\n",
    "train_9['user_kda'] = [user_kda[i] for i in train_9.user_id]\n",
    "#train_9['user_var'] = [user_var[i] for i in train_9.user_id]\n",
    "\n",
    "train_9['hero_kda'] = [hero_kda[i] for i in train_9.hero_id]\n",
    "#train_9['hero_var'] = [hero_var[i] for i in train_9.hero_id]\n",
    "\n",
    "\n",
    "train_1['user_kda'] = [user_kda[i] for i in train_1.user_id]\n",
    "#train_1['user_var'] = [user_var[i] for i in train_1.user_id]\n",
    "\n",
    "train_1['hero_kda'] = [hero_kda[i] for i in train_1.hero_id]\n",
    "#train_1['hero_var'] = [hero_var[i] for i in train_1.hero_id]\n",
    "\n",
    "# train win ratio\n",
    "\n",
    "win_ratio = {}\n",
    "win_var = {}\n",
    "\n",
    "a = train_9.user_id.unique()\n",
    "for i in a:\n",
    "    win_ratio[i] = train_9[train_9.user_id==i].win_ratio.mean()\n",
    "for i in a:\n",
    "    win_var[i] = train_9[train_9.user_id==i].win_ratio.var()\n",
    "    \n",
    "\n",
    "train_9['win_ratio1'] = [win_ratio[i] for i in train_9.user_id]\n",
    "train_9['win_var'] = [win_var[i] for i in train_9.user_id]\n",
    "\n",
    "train_1['win_ratio1'] = [win_ratio[i] for i in train_1.user_id]\n",
    "train_1['win_var'] = [win_var[i] for i in train_1.user_id]"
   ]
  },
  {
   "cell_type": "code",
   "execution_count": 54,
   "metadata": {
    "collapsed": true
   },
   "outputs": [],
   "source": [
    "# test kda mean var\n",
    "\n",
    "user_kda = {}\n",
    "user_var = {}\n",
    "user_min = {}\n",
    "user_max = {}\n",
    "\n",
    "hero_kda = {}\n",
    "hero_var = {}\n",
    "\n",
    "a = test_9.user_id.unique()\n",
    "for i in a:\n",
    "    user_kda[i] = test_9[test_9.user_id==i].kda_ratio.mean()\n",
    "for i in a:\n",
    "    user_var[i] = test_9[test_9.user_id==i].kda_ratio.var()\n",
    "for i  in a:\n",
    "    user_min[i] = test_9[test_9.user_id ==i ].kda_ratio.min()\n",
    "for i in a:\n",
    "    user_max[i] = test_9[test_9.user_id == i].kda_ratio.max()\n",
    "b = test_9.hero_id.unique()\n",
    "for i in b:\n",
    "    hero_kda[i] = test_9[test_9.hero_id==i].kda_ratio.mean()\n",
    "for i in b:\n",
    "    hero_var[i] = test_9[test_9.hero_id==i].kda_ratio.var()\n",
    "\n",
    "test_9['user_kda'] = [user_kda[i] for i in test_9.user_id]\n",
    "#test_9['user_var'] = [user_var[i] for i in test_9.user_id]\n",
    "\n",
    "test_9['hero_kda'] = [hero_kda[i] for i in test_9.hero_id]\n",
    "#test_9['hero_var'] = [hero_var[i] for i in test_9.hero_id]\n",
    "\n",
    "test_1['user_kda'] = [user_kda[i] for i in test_1.user_id]\n",
    "#test_1['user_var'] = [user_var[i] for i in test_1.user_id]\n",
    "\n",
    "test_1['hero_kda'] = [hero_kda[i] for i in test_1.hero_id]\n",
    "#test_1['hero_var'] = [hero_var[i] for i in test_1.hero_id]\n",
    "\n",
    "win_ratio = {}\n",
    "win_var = {}\n",
    "\n",
    "a = test_9.user_id.unique()\n",
    "for i in a:\n",
    "    win_ratio[i] = test_9[test_9.user_id==i].win_ratio.mean()\n",
    "for i in a:\n",
    "    win_var[i] = test_9[test_9.user_id==i].win_ratio.var()\n",
    "    \n",
    "\n",
    "test_9['win_ratio1'] = [win_ratio[i] for i in test_9.user_id]\n",
    "test_9['win_var'] = [win_var[i] for i in test_9.user_id]\n",
    "\n",
    "test_1['win_ratio1'] = [win_ratio[i] for i in test_1.user_id]\n",
    "test_1['win_var'] = [win_var[i] for i in test_1.user_id]\n"
   ]
  },
  {
   "cell_type": "code",
   "execution_count": 55,
   "metadata": {
    "collapsed": false
   },
   "outputs": [
    {
     "name": "stdout",
     "output_type": "stream",
     "text": [
      "(18846, 42)\n",
      "(26928, 42)\n"
     ]
    }
   ],
   "source": [
    "print(train_9.shape)\n",
    "train_9 = pd.concat([train_9, test_9], axis = 0)\n",
    "X_train = train_9.drop(['id','kda_ratio','hero_id','user_id','win_ratio','num_wins'],axis=1)\n",
    "y_train = train_9.kda_ratio\n",
    "X_test = train_1.drop(['id','kda_ratio','hero_id','user_id','num_wins'],axis=1)\n",
    "y_test = train_1.kda_ratio\n",
    "X_test2 = test_1.drop(['id','hero_id','user_id'],axis=1)\n",
    "print(train_9.shape)"
   ]
  },
  {
   "cell_type": "code",
   "execution_count": 56,
   "metadata": {
    "collapsed": false
   },
   "outputs": [
    {
     "name": "stdout",
     "output_type": "stream",
     "text": [
      "593.354895945\n"
     ]
    }
   ],
   "source": [
    "# #step = [ 'num_games' , 'base_health_regen' , 'base_armor' , \n",
    "#     'base_attack_max' , 'base_intelligence' , 'strength_gain' , 'intelligence_gain' , \n",
    "#     'attack_range' , 'projectile_speed' , 'attack_rate' , 'turn_rate' , \n",
    "#     'escape' , 'durable' , 'disabler' , 'nuker' , 'initiator' , 'pusher' , \n",
    "#     'support' , 'carry' , 'primary_attr_agi' , 'primary_attr_int' , 'attack_type_Melee' , \n",
    "#     'user_kda'  , 'hero_kda'  , 'win_ratio1' , \n",
    "#     'win_var'  ]\n",
    "\n",
    "X_train_S = X_train\n",
    "X_test_S = X_test\n",
    "X_test2_S = X_test2\n",
    "\n",
    "sc = StandardScaler()\n",
    "X_train_S = sc.fit_transform(X_train_S)\n",
    "X_test_S = sc.transform(X_test_S)\n",
    "X_test2_S = sc.transform(X_test2_S)\n",
    "\n",
    "model = LinearRegression()\n",
    "model.fit(X_train_S, y_train) \n",
    "\n",
    "train_pred = model.predict(X_test_S)\n",
    "test_pred1  = model.predict(X_test2_S)\n",
    "train_rmse = np.sqrt(mean_squared_error(train_pred,y_test))\n",
    "print(train_rmse)"
   ]
  },
  {
   "cell_type": "code",
   "execution_count": 57,
   "metadata": {
    "collapsed": false
   },
   "outputs": [
    {
     "name": "stdout",
     "output_type": "stream",
     "text": [
      "593.974578299\n"
     ]
    }
   ],
   "source": [
    "#columns = X_train.columns\n",
    "sc = StandardScaler()\n",
    "X_train = sc.fit_transform(X_train)\n",
    "X_test = sc.transform(X_test)\n",
    "X_test2 = sc.transform(X_test2)\n",
    "\n",
    "from sklearn.neighbors import KNeighborsRegressor\n",
    "\n",
    "model2 = KNeighborsRegressor(n_neighbors=9)\n",
    "model2.fit(X_train, y_train) \n",
    "train_pred2 = model2.predict(X_test)\n",
    "test_pred2  = model2.predict(X_test2)\n",
    "train_rmse = np.sqrt(mean_squared_error(train_pred2,y_test))\n",
    "print(train_rmse)"
   ]
  },
  {
   "cell_type": "code",
   "execution_count": 60,
   "metadata": {
    "collapsed": false
   },
   "outputs": [
    {
     "name": "stdout",
     "output_type": "stream",
     "text": [
      "577.735559196\n"
     ]
    }
   ],
   "source": [
    "print(np.sqrt(mean_squared_error(y_test,  (train_pred + train_pred2)/2)))"
   ]
  },
  {
   "cell_type": "code",
   "execution_count": 61,
   "metadata": {
    "collapsed": true
   },
   "outputs": [],
   "source": [
    "kda_ratio = (test_pred1*3 + test_pred2*2 )/5\n",
    "\n",
    "d = pd.DataFrame({ 'id':test_1.id,\n",
    "                  'kda_ratio':kda_ratio\n",
    "                 })\n",
    "d.to_csv(path+'linearknn.csv',index = None)"
   ]
  },
  {
   "cell_type": "code",
   "execution_count": null,
   "metadata": {
    "collapsed": true
   },
   "outputs": [],
   "source": []
  }
 ],
 "metadata": {
  "kernelspec": {
   "display_name": "Python [conda root]",
   "language": "python",
   "name": "conda-root-py"
  },
  "language_info": {
   "codemirror_mode": {
    "name": "ipython",
    "version": 3
   },
   "file_extension": ".py",
   "mimetype": "text/x-python",
   "name": "python",
   "nbconvert_exporter": "python",
   "pygments_lexer": "ipython3",
   "version": "3.5.2"
  }
 },
 "nbformat": 4,
 "nbformat_minor": 2
}
